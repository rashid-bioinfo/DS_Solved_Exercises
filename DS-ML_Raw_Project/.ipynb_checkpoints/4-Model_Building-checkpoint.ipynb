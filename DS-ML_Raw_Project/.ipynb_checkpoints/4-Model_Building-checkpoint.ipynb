{
 "cells": [
  {
   "cell_type": "markdown",
   "id": "82400570",
   "metadata": {},
   "source": [
    "### 1. Import libraries"
   ]
  },
  {
   "cell_type": "code",
   "execution_count": 4,
   "id": "c3f91489",
   "metadata": {},
   "outputs": [],
   "source": [
    "import pandas as pd\n",
    "import seaborn as sns\n",
    "from sklearn.model_selection import train_test_split\n",
    "from sklearn.ensemble import RandomForestRegressor"
   ]
  },
  {
   "cell_type": "markdown",
   "id": "a58b1166",
   "metadata": {},
   "source": [
    "### 2. Load the Data set"
   ]
  },
  {
   "cell_type": "code",
   "execution_count": 5,
   "id": "2c8c64e2",
   "metadata": {},
   "outputs": [],
   "source": [
    "df = pd.read_csv('acetylcholinestrase_06_bioactivity_data_3class_pIC50_pubchem_fp.csv')"
   ]
  },
  {
   "cell_type": "markdown",
   "id": "2ccde188",
   "metadata": {},
   "source": [
    "## 3. Input Featues "
   ]
  },
  {
   "cell_type": "markdown",
   "id": "3cf2417a",
   "metadata": {},
   "source": [
    "### 3.1 Input Features"
   ]
  },
  {
   "cell_type": "code",
   "execution_count": 6,
   "id": "f2292372",
   "metadata": {},
   "outputs": [
    {
     "data": {
      "text/html": [
       "<div>\n",
       "<style scoped>\n",
       "    .dataframe tbody tr th:only-of-type {\n",
       "        vertical-align: middle;\n",
       "    }\n",
       "\n",
       "    .dataframe tbody tr th {\n",
       "        vertical-align: top;\n",
       "    }\n",
       "\n",
       "    .dataframe thead th {\n",
       "        text-align: right;\n",
       "    }\n",
       "</style>\n",
       "<table border=\"1\" class=\"dataframe\">\n",
       "  <thead>\n",
       "    <tr style=\"text-align: right;\">\n",
       "      <th></th>\n",
       "      <th>PubchemFP0</th>\n",
       "      <th>PubchemFP1</th>\n",
       "      <th>PubchemFP2</th>\n",
       "      <th>PubchemFP3</th>\n",
       "      <th>PubchemFP4</th>\n",
       "      <th>PubchemFP5</th>\n",
       "      <th>PubchemFP6</th>\n",
       "      <th>PubchemFP7</th>\n",
       "      <th>PubchemFP8</th>\n",
       "      <th>PubchemFP9</th>\n",
       "      <th>...</th>\n",
       "      <th>PubchemFP871</th>\n",
       "      <th>PubchemFP872</th>\n",
       "      <th>PubchemFP873</th>\n",
       "      <th>PubchemFP874</th>\n",
       "      <th>PubchemFP875</th>\n",
       "      <th>PubchemFP876</th>\n",
       "      <th>PubchemFP877</th>\n",
       "      <th>PubchemFP878</th>\n",
       "      <th>PubchemFP879</th>\n",
       "      <th>PubchemFP880</th>\n",
       "    </tr>\n",
       "  </thead>\n",
       "  <tbody>\n",
       "    <tr>\n",
       "      <th>0</th>\n",
       "      <td>1</td>\n",
       "      <td>1</td>\n",
       "      <td>1</td>\n",
       "      <td>0</td>\n",
       "      <td>0</td>\n",
       "      <td>0</td>\n",
       "      <td>0</td>\n",
       "      <td>0</td>\n",
       "      <td>0</td>\n",
       "      <td>1</td>\n",
       "      <td>...</td>\n",
       "      <td>0</td>\n",
       "      <td>0</td>\n",
       "      <td>0</td>\n",
       "      <td>0</td>\n",
       "      <td>0</td>\n",
       "      <td>0</td>\n",
       "      <td>0</td>\n",
       "      <td>0</td>\n",
       "      <td>0</td>\n",
       "      <td>0</td>\n",
       "    </tr>\n",
       "    <tr>\n",
       "      <th>1</th>\n",
       "      <td>1</td>\n",
       "      <td>1</td>\n",
       "      <td>1</td>\n",
       "      <td>0</td>\n",
       "      <td>0</td>\n",
       "      <td>0</td>\n",
       "      <td>0</td>\n",
       "      <td>0</td>\n",
       "      <td>0</td>\n",
       "      <td>1</td>\n",
       "      <td>...</td>\n",
       "      <td>0</td>\n",
       "      <td>0</td>\n",
       "      <td>0</td>\n",
       "      <td>0</td>\n",
       "      <td>0</td>\n",
       "      <td>0</td>\n",
       "      <td>0</td>\n",
       "      <td>0</td>\n",
       "      <td>0</td>\n",
       "      <td>0</td>\n",
       "    </tr>\n",
       "    <tr>\n",
       "      <th>2</th>\n",
       "      <td>1</td>\n",
       "      <td>1</td>\n",
       "      <td>1</td>\n",
       "      <td>0</td>\n",
       "      <td>0</td>\n",
       "      <td>0</td>\n",
       "      <td>0</td>\n",
       "      <td>0</td>\n",
       "      <td>0</td>\n",
       "      <td>1</td>\n",
       "      <td>...</td>\n",
       "      <td>0</td>\n",
       "      <td>0</td>\n",
       "      <td>0</td>\n",
       "      <td>0</td>\n",
       "      <td>0</td>\n",
       "      <td>0</td>\n",
       "      <td>0</td>\n",
       "      <td>0</td>\n",
       "      <td>0</td>\n",
       "      <td>0</td>\n",
       "    </tr>\n",
       "    <tr>\n",
       "      <th>3</th>\n",
       "      <td>1</td>\n",
       "      <td>1</td>\n",
       "      <td>0</td>\n",
       "      <td>0</td>\n",
       "      <td>0</td>\n",
       "      <td>0</td>\n",
       "      <td>0</td>\n",
       "      <td>0</td>\n",
       "      <td>0</td>\n",
       "      <td>1</td>\n",
       "      <td>...</td>\n",
       "      <td>0</td>\n",
       "      <td>0</td>\n",
       "      <td>0</td>\n",
       "      <td>0</td>\n",
       "      <td>0</td>\n",
       "      <td>0</td>\n",
       "      <td>0</td>\n",
       "      <td>0</td>\n",
       "      <td>0</td>\n",
       "      <td>0</td>\n",
       "    </tr>\n",
       "    <tr>\n",
       "      <th>4</th>\n",
       "      <td>1</td>\n",
       "      <td>1</td>\n",
       "      <td>0</td>\n",
       "      <td>0</td>\n",
       "      <td>0</td>\n",
       "      <td>0</td>\n",
       "      <td>0</td>\n",
       "      <td>0</td>\n",
       "      <td>0</td>\n",
       "      <td>1</td>\n",
       "      <td>...</td>\n",
       "      <td>0</td>\n",
       "      <td>0</td>\n",
       "      <td>0</td>\n",
       "      <td>0</td>\n",
       "      <td>0</td>\n",
       "      <td>0</td>\n",
       "      <td>0</td>\n",
       "      <td>0</td>\n",
       "      <td>0</td>\n",
       "      <td>0</td>\n",
       "    </tr>\n",
       "    <tr>\n",
       "      <th>...</th>\n",
       "      <td>...</td>\n",
       "      <td>...</td>\n",
       "      <td>...</td>\n",
       "      <td>...</td>\n",
       "      <td>...</td>\n",
       "      <td>...</td>\n",
       "      <td>...</td>\n",
       "      <td>...</td>\n",
       "      <td>...</td>\n",
       "      <td>...</td>\n",
       "      <td>...</td>\n",
       "      <td>...</td>\n",
       "      <td>...</td>\n",
       "      <td>...</td>\n",
       "      <td>...</td>\n",
       "      <td>...</td>\n",
       "      <td>...</td>\n",
       "      <td>...</td>\n",
       "      <td>...</td>\n",
       "      <td>...</td>\n",
       "      <td>...</td>\n",
       "    </tr>\n",
       "    <tr>\n",
       "      <th>4690</th>\n",
       "      <td>1</td>\n",
       "      <td>1</td>\n",
       "      <td>1</td>\n",
       "      <td>1</td>\n",
       "      <td>0</td>\n",
       "      <td>0</td>\n",
       "      <td>0</td>\n",
       "      <td>0</td>\n",
       "      <td>0</td>\n",
       "      <td>1</td>\n",
       "      <td>...</td>\n",
       "      <td>0</td>\n",
       "      <td>0</td>\n",
       "      <td>0</td>\n",
       "      <td>0</td>\n",
       "      <td>0</td>\n",
       "      <td>0</td>\n",
       "      <td>0</td>\n",
       "      <td>0</td>\n",
       "      <td>0</td>\n",
       "      <td>0</td>\n",
       "    </tr>\n",
       "    <tr>\n",
       "      <th>4691</th>\n",
       "      <td>1</td>\n",
       "      <td>1</td>\n",
       "      <td>1</td>\n",
       "      <td>1</td>\n",
       "      <td>0</td>\n",
       "      <td>0</td>\n",
       "      <td>0</td>\n",
       "      <td>0</td>\n",
       "      <td>0</td>\n",
       "      <td>1</td>\n",
       "      <td>...</td>\n",
       "      <td>0</td>\n",
       "      <td>0</td>\n",
       "      <td>0</td>\n",
       "      <td>0</td>\n",
       "      <td>0</td>\n",
       "      <td>0</td>\n",
       "      <td>0</td>\n",
       "      <td>0</td>\n",
       "      <td>0</td>\n",
       "      <td>0</td>\n",
       "    </tr>\n",
       "    <tr>\n",
       "      <th>4692</th>\n",
       "      <td>1</td>\n",
       "      <td>1</td>\n",
       "      <td>1</td>\n",
       "      <td>1</td>\n",
       "      <td>0</td>\n",
       "      <td>0</td>\n",
       "      <td>0</td>\n",
       "      <td>0</td>\n",
       "      <td>0</td>\n",
       "      <td>1</td>\n",
       "      <td>...</td>\n",
       "      <td>0</td>\n",
       "      <td>0</td>\n",
       "      <td>0</td>\n",
       "      <td>0</td>\n",
       "      <td>0</td>\n",
       "      <td>0</td>\n",
       "      <td>0</td>\n",
       "      <td>0</td>\n",
       "      <td>0</td>\n",
       "      <td>0</td>\n",
       "    </tr>\n",
       "    <tr>\n",
       "      <th>4693</th>\n",
       "      <td>1</td>\n",
       "      <td>1</td>\n",
       "      <td>1</td>\n",
       "      <td>1</td>\n",
       "      <td>0</td>\n",
       "      <td>0</td>\n",
       "      <td>0</td>\n",
       "      <td>0</td>\n",
       "      <td>0</td>\n",
       "      <td>1</td>\n",
       "      <td>...</td>\n",
       "      <td>0</td>\n",
       "      <td>0</td>\n",
       "      <td>0</td>\n",
       "      <td>0</td>\n",
       "      <td>0</td>\n",
       "      <td>0</td>\n",
       "      <td>0</td>\n",
       "      <td>0</td>\n",
       "      <td>0</td>\n",
       "      <td>0</td>\n",
       "    </tr>\n",
       "    <tr>\n",
       "      <th>4694</th>\n",
       "      <td>1</td>\n",
       "      <td>1</td>\n",
       "      <td>1</td>\n",
       "      <td>1</td>\n",
       "      <td>0</td>\n",
       "      <td>0</td>\n",
       "      <td>0</td>\n",
       "      <td>0</td>\n",
       "      <td>0</td>\n",
       "      <td>1</td>\n",
       "      <td>...</td>\n",
       "      <td>0</td>\n",
       "      <td>0</td>\n",
       "      <td>0</td>\n",
       "      <td>0</td>\n",
       "      <td>0</td>\n",
       "      <td>0</td>\n",
       "      <td>0</td>\n",
       "      <td>0</td>\n",
       "      <td>0</td>\n",
       "      <td>0</td>\n",
       "    </tr>\n",
       "  </tbody>\n",
       "</table>\n",
       "<p>4695 rows × 881 columns</p>\n",
       "</div>"
      ],
      "text/plain": [
       "      PubchemFP0  PubchemFP1  PubchemFP2  PubchemFP3  PubchemFP4  PubchemFP5  \\\n",
       "0              1           1           1           0           0           0   \n",
       "1              1           1           1           0           0           0   \n",
       "2              1           1           1           0           0           0   \n",
       "3              1           1           0           0           0           0   \n",
       "4              1           1           0           0           0           0   \n",
       "...          ...         ...         ...         ...         ...         ...   \n",
       "4690           1           1           1           1           0           0   \n",
       "4691           1           1           1           1           0           0   \n",
       "4692           1           1           1           1           0           0   \n",
       "4693           1           1           1           1           0           0   \n",
       "4694           1           1           1           1           0           0   \n",
       "\n",
       "      PubchemFP6  PubchemFP7  PubchemFP8  PubchemFP9  ...  PubchemFP871  \\\n",
       "0              0           0           0           1  ...             0   \n",
       "1              0           0           0           1  ...             0   \n",
       "2              0           0           0           1  ...             0   \n",
       "3              0           0           0           1  ...             0   \n",
       "4              0           0           0           1  ...             0   \n",
       "...          ...         ...         ...         ...  ...           ...   \n",
       "4690           0           0           0           1  ...             0   \n",
       "4691           0           0           0           1  ...             0   \n",
       "4692           0           0           0           1  ...             0   \n",
       "4693           0           0           0           1  ...             0   \n",
       "4694           0           0           0           1  ...             0   \n",
       "\n",
       "      PubchemFP872  PubchemFP873  PubchemFP874  PubchemFP875  PubchemFP876  \\\n",
       "0                0             0             0             0             0   \n",
       "1                0             0             0             0             0   \n",
       "2                0             0             0             0             0   \n",
       "3                0             0             0             0             0   \n",
       "4                0             0             0             0             0   \n",
       "...            ...           ...           ...           ...           ...   \n",
       "4690             0             0             0             0             0   \n",
       "4691             0             0             0             0             0   \n",
       "4692             0             0             0             0             0   \n",
       "4693             0             0             0             0             0   \n",
       "4694             0             0             0             0             0   \n",
       "\n",
       "      PubchemFP877  PubchemFP878  PubchemFP879  PubchemFP880  \n",
       "0                0             0             0             0  \n",
       "1                0             0             0             0  \n",
       "2                0             0             0             0  \n",
       "3                0             0             0             0  \n",
       "4                0             0             0             0  \n",
       "...            ...           ...           ...           ...  \n",
       "4690             0             0             0             0  \n",
       "4691             0             0             0             0  \n",
       "4692             0             0             0             0  \n",
       "4693             0             0             0             0  \n",
       "4694             0             0             0             0  \n",
       "\n",
       "[4695 rows x 881 columns]"
      ]
     },
     "execution_count": 6,
     "metadata": {},
     "output_type": "execute_result"
    }
   ],
   "source": [
    "X = df.drop('pIC50', axis=1)\n",
    "X"
   ]
  },
  {
   "cell_type": "markdown",
   "id": "2ad9dbbe",
   "metadata": {},
   "source": [
    "### 3.2 Output Features"
   ]
  },
  {
   "cell_type": "code",
   "execution_count": 7,
   "id": "fd95a182",
   "metadata": {},
   "outputs": [
    {
     "data": {
      "text/plain": [
       "0       6.124939\n",
       "1       7.000000\n",
       "2       4.301030\n",
       "3       6.522879\n",
       "4       6.096910\n",
       "          ...   \n",
       "4690    5.612610\n",
       "4691    5.595166\n",
       "4692    5.419075\n",
       "4693    5.460924\n",
       "4694    5.555955\n",
       "Name: pIC50, Length: 4695, dtype: float64"
      ]
     },
     "execution_count": 7,
     "metadata": {},
     "output_type": "execute_result"
    }
   ],
   "source": [
    "Y = df.pIC50\n",
    "Y"
   ]
  },
  {
   "cell_type": "markdown",
   "id": "37251921",
   "metadata": {},
   "source": [
    "### 3.3 Let's examin the data dimension"
   ]
  },
  {
   "cell_type": "code",
   "execution_count": 9,
   "id": "3839097a",
   "metadata": {},
   "outputs": [
    {
     "data": {
      "text/plain": [
       "(4695, 881)"
      ]
     },
     "execution_count": 9,
     "metadata": {},
     "output_type": "execute_result"
    }
   ],
   "source": [
    "X.shape"
   ]
  },
  {
   "cell_type": "code",
   "execution_count": 10,
   "id": "89d7c39c",
   "metadata": {},
   "outputs": [
    {
     "data": {
      "text/plain": [
       "(4695,)"
      ]
     },
     "execution_count": 10,
     "metadata": {},
     "output_type": "execute_result"
    }
   ],
   "source": [
    "Y.shape"
   ]
  },
  {
   "cell_type": "markdown",
   "id": "185b4593",
   "metadata": {},
   "source": [
    "### 3.4 Remove low variance features"
   ]
  },
  {
   "cell_type": "code",
   "execution_count": 11,
   "id": "8ae18759",
   "metadata": {},
   "outputs": [],
   "source": [
    "from sklearn.feature_selection import VarianceThreshold\n",
    "selection = VarianceThreshold(threshold=(.8 *(1 - .8)))\n",
    "X = selection.fit_transform(X)"
   ]
  },
  {
   "cell_type": "code",
   "execution_count": 12,
   "id": "3c0fd1bc",
   "metadata": {},
   "outputs": [
    {
     "data": {
      "text/plain": [
       "(4695, 137)"
      ]
     },
     "execution_count": 12,
     "metadata": {},
     "output_type": "execute_result"
    }
   ],
   "source": [
    "X.shape"
   ]
  },
  {
   "cell_type": "markdown",
   "id": "6aca2169",
   "metadata": {},
   "source": [
    "## 4. Data Split (80/20 ratio)"
   ]
  },
  {
   "cell_type": "code",
   "execution_count": 14,
   "id": "a7aa2258",
   "metadata": {},
   "outputs": [
    {
     "data": {
      "text/plain": [
       "((3756, 137), (3756,))"
      ]
     },
     "execution_count": 14,
     "metadata": {},
     "output_type": "execute_result"
    }
   ],
   "source": [
    "X_train, X_test, Y_train, Y_test = train_test_split(X, Y, test_size=0.2)\n",
    "X_train.shape, Y_train.shape"
   ]
  },
  {
   "cell_type": "code",
   "execution_count": 15,
   "id": "b6a11b8e",
   "metadata": {},
   "outputs": [
    {
     "data": {
      "text/plain": [
       "((939, 137), (939,))"
      ]
     },
     "execution_count": 15,
     "metadata": {},
     "output_type": "execute_result"
    }
   ],
   "source": [
    "X_test.shape, Y_test.shape"
   ]
  },
  {
   "cell_type": "markdown",
   "id": "9ce03ce1",
   "metadata": {},
   "source": [
    "## 5. Building a Regression Model using Random Forest"
   ]
  },
  {
   "cell_type": "code",
   "execution_count": 20,
   "id": "e98aa5e6",
   "metadata": {},
   "outputs": [],
   "source": [
    "import numpy as np\n",
    "np.random.seed(100)\n",
    "model = RandomForestRegressor(n_estimators=100)\n",
    "model.fit(X_train, Y_train)\n",
    "r2 = model.score(X_test, Y_test)"
   ]
  },
  {
   "cell_type": "code",
   "execution_count": 25,
   "id": "1f972096",
   "metadata": {},
   "outputs": [
    {
     "data": {
      "text/plain": [
       "0.5016000652212285"
      ]
     },
     "execution_count": 25,
     "metadata": {},
     "output_type": "execute_result"
    }
   ],
   "source": [
    "r2"
   ]
  },
  {
   "cell_type": "code",
   "execution_count": 24,
   "id": "223ae371",
   "metadata": {},
   "outputs": [],
   "source": [
    "Y_pred = model.predict(X_test)"
   ]
  },
  {
   "cell_type": "code",
   "execution_count": 27,
   "id": "116bc31f",
   "metadata": {},
   "outputs": [
    {
     "data": {
      "text/plain": [
       "array([ 4.79561447,  5.1977702 ,  7.02238278,  6.79205578,  4.74341935,\n",
       "        4.55146331,  5.82185593,  5.99024123,  6.30565405,  7.66768459,\n",
       "        4.97829881,  5.44049506,  4.62244897,  5.91758963,  6.15737558,\n",
       "        6.20664926,  7.25224211,  4.43552345,  4.38262886,  4.13180553,\n",
       "        6.26884328,  4.70937497,  4.77529725,  5.87652586,  6.93360479,\n",
       "        7.87641686,  5.3890067 ,  5.61071465,  5.81455825,  4.85638682,\n",
       "        5.28250902,  6.06248914,  6.95982907,  7.71494668,  5.47173779,\n",
       "        4.77669   ,  7.1903774 ,  4.03999525,  6.11059831,  6.15693729,\n",
       "        5.51809434,  6.87601094,  5.8229157 ,  4.80064509,  7.05309949,\n",
       "        8.17510717,  7.78461322,  5.24741083,  4.93189689,  6.15472438,\n",
       "        4.4785334 ,  4.07101562,  5.2247492 ,  5.99716248,  7.29463653,\n",
       "        6.40619078,  7.94448428,  6.72792808,  9.46414647,  5.12090218,\n",
       "        8.2648473 ,  4.32441495,  6.95982907,  7.61669573,  5.95724275,\n",
       "        5.83782557,  6.58890725,  4.45349592,  6.95982907,  4.23979989,\n",
       "        6.50185418,  5.39365004,  5.88817663,  6.64462842,  5.91581134,\n",
       "        5.85767369,  6.17924081,  7.40225725,  6.97762647,  6.18144389,\n",
       "        8.55320514,  5.92789183,  4.37554341,  8.55320514,  5.85995433,\n",
       "        5.79287207,  7.61669573,  6.43605087,  5.43367729,  8.24021369,\n",
       "        5.96265378,  6.06276016,  7.21194499,  6.87477416,  5.89124213,\n",
       "        6.36471008,  7.80860369,  5.1251783 ,  5.13037399,  6.50032104,\n",
       "        3.74263973,  5.59356996,  5.73796351,  5.95444258,  2.93161275,\n",
       "        5.28053257,  4.3185027 ,  6.38179993,  7.86211799,  5.43960092,\n",
       "        6.04142391,  7.10553889,  6.97772523,  4.82522728,  7.71494668,\n",
       "        8.3675357 ,  5.83248675,  5.47193885,  6.55437152,  5.67162017,\n",
       "        6.018797  ,  6.64951825,  5.60046148,  5.21506858,  5.65013159,\n",
       "        6.85261582,  8.56626066,  4.97074237,  5.64632253,  5.28840019,\n",
       "        5.00325602,  6.8852434 ,  5.11872181,  5.9099816 ,  5.60046148,\n",
       "        3.80519367,  4.30103   ,  5.51097694,  5.75888914,  3.63979152,\n",
       "        3.78586776,  5.6903307 ,  6.62280671,  6.71583443,  4.25030407,\n",
       "        7.43664561,  7.30908458,  7.80860369,  2.85498209,  7.53052537,\n",
       "        5.3230157 ,  6.15709661,  4.75216758,  5.62758519,  6.84954238,\n",
       "        4.32139131,  5.10621667,  4.58118587,  4.0561895 ,  9.23715746,\n",
       "        4.27101828,  5.95444258,  5.99261803,  6.65036553,  5.75656907,\n",
       "        4.38280437,  8.81383682,  6.791292  ,  6.94498066,  6.398856  ,\n",
       "        5.91786116,  5.47986233,  6.23977661,  6.57292086,  2.78978217,\n",
       "        5.90475143,  5.72831034,  8.55320514,  7.36689257,  5.58871106,\n",
       "        6.10996019,  6.1533952 ,  4.97630182,  4.83155526,  6.46676407,\n",
       "        4.75624596,  7.25224211,  6.90840331,  7.54979073,  8.56626066,\n",
       "        6.58454539,  9.23715746,  6.31475884,  5.17763132,  6.92212053,\n",
       "        4.10510192,  5.17703481,  5.39741316,  6.96356956,  5.44963528,\n",
       "        5.95847618,  6.20538399,  4.24842661,  5.72095587,  4.58935788,\n",
       "        5.28246243,  6.15347249,  4.63438057,  6.4039566 ,  7.74489458,\n",
       "        7.30914413,  7.21945464,  6.08407497,  4.20730706,  5.05660389,\n",
       "        5.30426257,  6.22263607,  3.77175037,  4.34934611,  5.28353263,\n",
       "        6.66857173,  4.48303053,  6.27970557,  5.05498557,  6.70432471,\n",
       "        5.75065018,  9.79516361,  5.82616463,  5.24248853,  6.57170092,\n",
       "        5.47116193,  4.91864494,  5.89675505,  5.26268966,  5.57771888,\n",
       "        5.05303774,  3.59623708,  6.61954346,  4.68047556,  6.11462064,\n",
       "        5.24525907,  5.75082551,  5.78352214,  5.18304251,  7.14294304,\n",
       "        5.33484294,  7.40225725,  5.11729082,  5.72283579,  7.02744768,\n",
       "        5.46916823,  7.7182677 ,  5.12090218,  5.09733478,  6.5293575 ,\n",
       "        6.92596417,  6.20778253,  6.17156785,  7.99958394,  3.78754209,\n",
       "        6.84954238,  6.93065921,  5.13483668,  6.98512147,  6.82539717,\n",
       "        4.8899402 ,  5.31801295,  5.31667072,  5.53913648,  4.97829881,\n",
       "        6.21230234,  5.55658012,  7.61972648,  6.84720556,  5.56965093,\n",
       "        6.42458925,  6.12937647,  5.45754613,  5.38637109,  4.31760577,\n",
       "        6.27685823,  6.0116135 ,  6.89623937,  6.0633246 ,  7.66322687,\n",
       "        4.99149287,  7.53629199,  8.51115775,  4.84285024,  5.43128428,\n",
       "        6.70250344,  8.81383682,  2.63322155,  6.8852434 ,  4.84434622,\n",
       "        5.81455825,  7.80860369,  6.99745446,  7.3188307 ,  7.16724336,\n",
       "        8.81383682,  4.10748468,  6.71361902,  6.17156785,  5.43367729,\n",
       "        8.19470261,  5.27005776,  4.23604519,  7.91364188,  6.53979763,\n",
       "        6.73028382,  5.16962429,  3.63979152,  4.82279278,  6.82083419,\n",
       "        6.85927108,  5.19265306,  4.92655634,  5.43470767,  7.10591648,\n",
       "        3.78586776,  7.71479383,  6.018797  ,  4.95235285,  4.88220612,\n",
       "        5.8957807 ,  5.38990268,  5.55958346,  4.66851129,  5.17085109,\n",
       "        5.01859892,  6.56520871,  6.11093354,  4.6641634 ,  5.88365248,\n",
       "        7.41225665,  7.87641686,  3.39536149,  8.17410363,  5.65289387,\n",
       "        6.21609034, 10.71719048,  7.93217731,  7.94448428,  6.49009221,\n",
       "        5.24630812,  9.23715746,  4.63214068,  7.59917002,  7.10705072,\n",
       "        4.51569444,  4.95266209,  6.51273103,  7.02867963,  4.94702   ,\n",
       "        8.19299642,  5.89491745,  3.92349905,  7.02036249,  6.31324712,\n",
       "        7.86211799,  6.63019808,  5.45469951,  6.88664044,  3.78387488,\n",
       "        5.39041607,  6.24036529,  7.37699791,  5.82124717,  4.03972589,\n",
       "        6.06491676,  6.60851585,  5.71272226,  5.66089547,  5.87190769,\n",
       "        4.45349592,  5.83507268,  5.40470352,  6.4837452 ,  4.82091549,\n",
       "        7.60829195,  9.22747566,  5.31966876,  9.22747566,  6.9574826 ,\n",
       "        6.85129334,  6.00189741,  4.95883399,  6.14818355,  6.9574826 ,\n",
       "        5.79287207,  5.07018347,  6.36471008,  7.10152841,  5.38666791,\n",
       "        5.11774677,  3.7851534 ,  4.95883399,  4.44771489,  6.37095119,\n",
       "        6.11059831,  5.09810131,  7.2375555 ,  5.57092336,  3.80646576,\n",
       "        3.87066385,  5.8010379 ,  5.70806064,  8.05937748,  5.43367729,\n",
       "        4.89443155,  5.02035038,  4.97630182,  9.23715746,  7.21458091,\n",
       "        4.52535255,  6.33725977,  7.60433526,  4.98956627,  5.96265378,\n",
       "        5.38666791,  5.80948309,  5.29512124,  5.23115931,  4.85880681,\n",
       "        5.37193023,  5.51131733,  4.89805556,  5.67217889,  5.20817655,\n",
       "        7.01460844,  7.87281605,  5.91985824,  5.60558892,  5.99088567,\n",
       "        5.813246  ,  5.35950908,  4.97316648,  7.80860369,  6.9574826 ,\n",
       "        6.76973432,  5.73342128,  5.30321508,  6.3129581 ,  5.89124213,\n",
       "        7.38768486,  6.40589784,  6.58890725,  7.20483589,  2.78978217,\n",
       "        4.20537693,  3.12506824,  5.79120699,  4.697139  ,  4.79278837,\n",
       "        6.63755525,  6.32140009,  7.81618543,  6.86533574,  5.52287875,\n",
       "        3.92349905,  7.53052537,  4.35727112,  5.28025909,  6.26875048,\n",
       "        5.2487534 ,  6.95982907,  6.95982907,  5.67581321,  4.70814414,\n",
       "        5.86970942,  6.60331434,  7.64208852,  4.13946718,  6.02323526,\n",
       "        6.05794802,  7.9090537 ,  5.01554676,  7.86211799,  7.99958394,\n",
       "        5.09810131,  7.83176112,  3.5026147 ,  6.49916813,  4.87578727,\n",
       "        5.90211551,  4.48667928,  5.59370795,  5.1878866 ,  5.63794158,\n",
       "        5.60589153,  2.87087978,  4.24289322,  7.21945464,  5.48378982,\n",
       "        7.88666161,  7.80860369,  6.01934914,  3.72054768,  4.66487768,\n",
       "        4.798225  ,  4.94161313,  4.51236747,  8.98830609,  6.93661004,\n",
       "        8.0080703 ,  6.48543018,  6.04142391,  5.5228351 ,  6.13485405,\n",
       "        5.28765784,  3.11441725,  2.98046244,  5.56213992,  4.98629387,\n",
       "        7.37608986,  5.4528498 ,  6.87477416,  5.97811354,  6.35859698,\n",
       "        3.74263973,  4.05517505,  5.23661332,  7.45128944,  6.22263607,\n",
       "        7.70351182,  4.89443155,  7.25762885,  5.42575004,  5.15903458,\n",
       "        5.26137424,  6.20972625,  5.15288161,  7.10553889,  5.62945857,\n",
       "        6.0987175 ,  5.92690102,  3.6347055 ,  8.00567746,  5.35767778,\n",
       "        6.60133502,  6.32612384,  6.08562299,  5.46978309,  4.90077814,\n",
       "        9.97187947,  5.75888914,  5.22860621,  6.15182334,  5.28246243,\n",
       "        4.26165251,  6.05794802,  5.47423308,  6.85672487,  5.94554931,\n",
       "        4.47432284,  4.80850785,  4.88289729,  5.63683478,  8.55320514,\n",
       "        5.36919086,  4.83788642,  5.1162325 ,  6.41366458,  4.14887567,\n",
       "        7.16374196,  6.59708848,  6.21354788,  5.7475785 ,  7.46000406,\n",
       "        7.25726034,  6.68496071,  6.69952822,  7.10803542,  4.26824976,\n",
       "        4.84285024,  5.29816169,  4.41713973,  6.40619078,  4.84202198,\n",
       "        3.12506824,  5.75170181,  5.58489477,  5.38814702,  5.0175156 ,\n",
       "        5.61071465,  7.93217731,  7.83176112,  4.87679064,  4.73843557,\n",
       "        5.54503323,  5.31882164,  7.28370387,  4.80089932,  6.2557614 ,\n",
       "        5.64667057,  8.60994048,  3.92349905,  5.41650843,  6.43605087,\n",
       "        6.06907013,  4.13629628,  6.49009221,  6.41366458,  7.81909442,\n",
       "        8.55320514,  6.36892657,  7.03029746,  5.53102436,  4.0525991 ,\n",
       "        6.30615862,  5.28464931,  4.4647931 ,  5.30928167,  5.55325421,\n",
       "        6.85475564,  6.47425774,  4.75201726,  6.54598136,  2.32749663,\n",
       "        6.60331434,  5.87355057,  4.63438057,  4.64522527,  4.32142603,\n",
       "        6.8852434 ,  4.50699908,  6.07601408,  5.18523731,  5.11649267,\n",
       "        7.86211799,  5.30321508,  5.52779544,  5.03694161,  6.70432471,\n",
       "        5.49334901,  4.15234159,  5.76138278,  6.98994979,  7.81618543,\n",
       "        8.51115775,  3.57973752,  6.86533574,  4.62152079,  7.02238278,\n",
       "        5.10363344,  4.61110318,  7.70644635,  7.1474724 ,  6.09473219,\n",
       "        4.5531732 ,  5.28764041,  7.2375555 ,  7.65661838,  5.72498513,\n",
       "        6.9234467 ,  6.17387974,  5.73342128,  4.15270921,  4.82515823,\n",
       "        7.99122737,  6.19828025,  6.21230234,  4.20235791,  6.2105311 ,\n",
       "        7.53052537,  6.9574826 ,  5.66727767,  5.14753482,  5.76885301,\n",
       "        4.99783424,  5.8957807 ,  6.84473426,  5.48180599,  7.40225725,\n",
       "        7.58154651,  6.12734824,  6.58029516,  4.82205626,  6.41366458,\n",
       "        8.14102202,  7.87349054,  3.12506824,  5.40006395,  5.58096934,\n",
       "        6.24205368,  5.33528778,  4.30545868,  4.54360777,  5.17578101,\n",
       "        2.87087978,  5.20344581,  5.70216911,  5.10547939,  6.09946928,\n",
       "       10.60461459,  5.81677849,  6.66345596,  5.94178559,  4.58336007,\n",
       "        6.28578874,  5.33821888,  4.95385158,  4.43569411,  8.81383682,\n",
       "        5.39200078,  7.01460844,  9.23715746,  4.32139131,  4.94161313,\n",
       "        8.44942058,  5.11319037,  7.01460844,  4.03539488,  6.87477416,\n",
       "        4.26741009,  5.31244068,  5.06846369,  3.77445898,  6.33518094,\n",
       "        5.7475785 ,  6.95982907,  4.95883399,  6.76553483,  6.2038568 ,\n",
       "        6.11177443,  3.88607667,  4.68047556,  5.02997277,  6.20812051,\n",
       "        5.6542489 ,  7.03194439,  6.11447162,  5.8791044 ,  3.80646576,\n",
       "        5.68281899,  7.42211308,  7.7182677 ,  5.52779544,  4.77718756,\n",
       "        5.6595113 ,  5.1111282 ,  6.61670916,  5.90558743,  7.75604636,\n",
       "        6.81937348,  5.51944124,  4.8752485 ,  6.59076137,  8.09319304,\n",
       "        4.84087548,  6.73028382,  3.21519672,  5.00503049,  6.09473219,\n",
       "        5.61459858,  8.19470261,  5.43944845,  5.82124717,  7.01745338,\n",
       "        3.5026147 ,  6.98891211,  4.03999525,  6.66655378,  6.58029516,\n",
       "        5.7649255 ,  7.2375555 ,  5.52516128,  6.76419961,  3.48138618,\n",
       "        5.72622434,  5.36366617,  4.06990533,  6.55748842,  5.72283579,\n",
       "        6.11059831,  6.21230234,  6.46829807,  6.0147007 ,  5.28246243,\n",
       "        5.8926885 ,  5.1112062 ,  5.12477424,  7.93217731,  7.06281905,\n",
       "        6.56373331,  5.58295307,  6.018797  ,  5.83576396,  6.85166972,\n",
       "        6.06084655,  5.27178885,  6.95457523,  8.43938662,  6.42926365,\n",
       "        5.72013372,  4.04032481,  5.16031739,  5.20939905,  3.67854343,\n",
       "        6.19828025,  6.0462041 ,  2.41117631,  3.11441725,  7.80860369,\n",
       "        8.55320514,  7.74489458,  5.03439561,  5.87397455,  4.68757891,\n",
       "        6.45799258,  7.49907421,  7.40534298,  6.44169882,  6.84178599,\n",
       "        7.12139116,  4.75215697,  6.97772523,  5.16456077,  4.00825469,\n",
       "        6.95982907,  6.13659988,  6.58029516,  5.39741316,  6.018797  ,\n",
       "        5.05660527,  5.85606545,  5.54846779,  5.96265378,  4.66423779,\n",
       "        6.06276016,  5.4804276 ,  6.20664926,  5.56780291,  6.73818871,\n",
       "        3.5026147 ,  5.11031871,  5.58049401,  5.1269222 ,  7.05309949,\n",
       "        5.52287875,  6.73063785,  6.05974887,  6.55835089,  5.15633649,\n",
       "        4.24487471,  5.42827964,  5.84553697,  4.20956461,  4.52535255,\n",
       "        6.12893328,  5.08953193,  5.08538528,  3.59623708,  4.66704044,\n",
       "        6.15182334,  4.19741376,  6.93111619,  3.32600566,  5.92499197,\n",
       "        8.01026282,  5.61934596,  7.93217731,  5.66428526,  3.89736935,\n",
       "        6.06676539,  5.01000841,  4.52535255,  6.20538399,  4.81797667,\n",
       "        3.60702703,  4.75216758,  5.59356996,  4.70596984,  5.13592275,\n",
       "        4.98862001,  5.29825689,  4.97250626,  6.64144626,  4.23547149,\n",
       "        3.63979152,  7.10895273,  6.11059831,  5.012144  ,  5.9893971 ,\n",
       "        6.42458925,  3.74263973,  6.23785932,  5.62945857,  7.25926762,\n",
       "        5.48121479,  5.4160633 ,  5.17991532,  8.55320514,  5.74355428,\n",
       "        3.22233016,  5.01414218,  8.19470261,  7.40225725,  6.14257164,\n",
       "        7.        ,  6.19806586,  4.79561447,  4.91725965,  3.78387488,\n",
       "        6.91894958,  4.86644626,  4.84404316,  6.12131478,  4.41059266,\n",
       "        6.73969234,  5.15554448,  7.37768836,  6.64838599,  8.17207483,\n",
       "        6.86803987,  5.72563687,  5.81025213,  7.41225665,  4.85592307,\n",
       "        5.44838786,  7.34534091,  6.79805518,  9.23715746,  7.48019711,\n",
       "        4.86203783,  5.30810955,  4.49120218,  7.40225725,  5.19384261,\n",
       "        6.37044885,  4.93189689,  6.54462042,  4.44806342,  4.5990232 ,\n",
       "        6.55501479,  5.56944432,  5.69990947,  6.17651803])"
      ]
     },
     "execution_count": 27,
     "metadata": {},
     "output_type": "execute_result"
    }
   ],
   "source": [
    "Y_pred"
   ]
  },
  {
   "cell_type": "markdown",
   "id": "f38d20ae",
   "metadata": {},
   "source": [
    "## 6. Scatter Plot of Experimental vs Predicted pIC50 Values"
   ]
  },
  {
   "cell_type": "code",
   "execution_count": 30,
   "id": "11c32d40",
   "metadata": {},
   "outputs": [
    {
     "data": {
      "text/plain": [
       "<function matplotlib.pyplot.show(close=None, block=None)>"
      ]
     },
     "execution_count": 30,
     "metadata": {},
     "output_type": "execute_result"
    },
    {
     "data": {
      "image/png": "[encoded data removed]",
      "text/plain": [
       "<Figure size 360x360 with 1 Axes>"
      ]
     },
     "metadata": {},
     "output_type": "display_data"
    }
   ],
   "source": [
    "import seaborn as sns\n",
    "import matplotlib.pyplot as plt\n",
    "\n",
    "sns.set(color_codes=True)\n",
    "sns.set_style(\"white\")\n",
    "\n",
    "ax = sns.regplot(Y_test, Y_pred, scatter_kws={'alpha':0.4})\n",
    "ax.set_xlabel('Experimental pIC50', fontsize=\"large\", fontweight=\"bold\")\n",
    "ax.set_ylabel('Predicted pIC50', fontsize=\"large\", fontweight=\"bold\")\n",
    "\n",
    "ax.set_xlim(0,12)\n",
    "ax.set_ylim(0,12)\n",
    "ax.figure.set_size_inches(5,5)\n",
    "plt.show\n"
   ]
  },
  {
   "cell_type": "code",
   "execution_count": null,
   "id": "1747a731",
   "metadata": {},
   "outputs": [],
   "source": []
  }
 ],
 "metadata": {
  "kernelspec": {
   "display_name": "Python 3 (ipykernel)",
   "language": "python",
   "name": "python3"
  },
  "language_info": {
   "codemirror_mode": {
    "name": "ipython",
    "version": 3
   },
   "file_extension": ".py",
   "mimetype": "text/x-python",
   "name": "python",
   "nbconvert_exporter": "python",
   "pygments_lexer": "ipython3",
   "version": "3.9.12"
  }
 },
 "nbformat": 4,
 "nbformat_minor": 5
}
