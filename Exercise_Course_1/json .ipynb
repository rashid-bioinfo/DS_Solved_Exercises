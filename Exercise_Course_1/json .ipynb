{
 "cells": [
  {
   "cell_type": "code",
   "execution_count": 1,
   "id": "f76a9c3d",
   "metadata": {},
   "outputs": [],
   "source": [
    "import json"
   ]
  },
  {
   "cell_type": "code",
   "execution_count": 3,
   "id": "d998bddc",
   "metadata": {},
   "outputs": [],
   "source": [
    "json_data = '{\"a\":1, \"b\":2, \"c\":3}'"
   ]
  },
  {
   "cell_type": "code",
   "execution_count": 4,
   "id": "d57e4ddf",
   "metadata": {},
   "outputs": [],
   "source": [
    "x = json.loads(json_data)"
   ]
  },
  {
   "cell_type": "code",
   "execution_count": 5,
   "id": "062223f1",
   "metadata": {},
   "outputs": [
    {
     "data": {
      "text/plain": [
       "{'a': 1, 'b': 2, 'c': 3}"
      ]
     },
     "execution_count": 5,
     "metadata": {},
     "output_type": "execute_result"
    }
   ],
   "source": [
    "x"
   ]
  },
  {
   "cell_type": "code",
   "execution_count": 7,
   "id": "19d5210d",
   "metadata": {},
   "outputs": [
    {
     "data": {
      "text/plain": [
       "2"
      ]
     },
     "execution_count": 7,
     "metadata": {},
     "output_type": "execute_result"
    }
   ],
   "source": [
    "x['b']"
   ]
  },
  {
   "cell_type": "code",
   "execution_count": 8,
   "id": "25e105ab",
   "metadata": {},
   "outputs": [],
   "source": [
    "with open('2.json', 'w') as f:\n",
    "    json.dump(x,f)"
   ]
  },
  {
   "cell_type": "code",
   "execution_count": null,
   "id": "94ae6dc3",
   "metadata": {},
   "outputs": [],
   "source": []
  }
 ],
 "metadata": {
  "kernelspec": {
   "display_name": "Python 3 (ipykernel)",
   "language": "python",
   "name": "python3"
  },
  "language_info": {
   "codemirror_mode": {
    "name": "ipython",
    "version": 3
   },
   "file_extension": ".py",
   "mimetype": "text/x-python",
   "name": "python",
   "nbconvert_exporter": "python",
   "pygments_lexer": "ipython3",
   "version": "3.9.7"
  }
 },
 "nbformat": 4,
 "nbformat_minor": 5
}
